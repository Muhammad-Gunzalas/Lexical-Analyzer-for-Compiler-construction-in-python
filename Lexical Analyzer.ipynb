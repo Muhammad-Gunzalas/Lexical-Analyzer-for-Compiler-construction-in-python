{
 "cells": [
  {
   "cell_type": "markdown",
   "id": "522576ce",
   "metadata": {},
   "source": [
    "# lexical Analyser"
   ]
  },
  {
   "cell_type": "code",
   "execution_count": 1,
   "id": "ad4bcace",
   "metadata": {},
   "outputs": [],
   "source": [
    "#natural language processing library in python as nltk\n",
    "#Regular Expression Library in python as re\n",
    "import nltk\n",
    "import re"
   ]
  },
  {
   "cell_type": "code",
   "execution_count": 2,
   "id": "5aeb7d8c",
   "metadata": {},
   "outputs": [
    {
     "name": "stdout",
     "output_type": "stream",
     "text": [
      "Enter the program\n",
      "arr=[1,2,3,4,5] for i in range(0,2):     print(arr[i])\n",
      "['arr', '=[', '1', ',', '2', ',', '3', ',', '4', ',', '5', ']', 'for', 'i', 'in', 'range', '(', '0', ',', '2', '):', 'print', '(', 'arr', '[', 'i', '])']\n"
     ]
    }
   ],
   "source": [
    "input_program=input(\"Enter the program\\n\")\n",
    "program_tokenize=nltk.wordpunct_tokenize(input_program)\n",
    "#Tokenize the program with nltk\n",
    "print(program_tokenize)"
   ]
  },
  {
   "cell_type": "code",
   "execution_count": 3,
   "id": "f4bdb94d",
   "metadata": {},
   "outputs": [],
   "source": [
    "RE_keywords = \"auto|break|case|char|const|continue|default|do|double|else|enum|extern|float|for|goto|if|int|long|register|return|short|signed|sizeof|static|struct|switch|typedef|union|unsigned|void|volatile|while|string|class|struc|include\"\n",
    "RE_operators = \"(\\++)|(-)|(=)|(\\*)|(/)|(%)|(--)|(<=)|(>=)\"\n",
    "RE_numerals = \"^(\\d+)$\"\n",
    "RE_specialchar = \"[\\[@&~!#$\\^\\|{}\\]:;<>?,\\.']|\\(\\)|\\(|\\)|{}|\\[\\]|\\''\"\n",
    "RE_identifiers = \"^[a-zA-Z_]+[a-zA-Z0-9_]*\"\n",
    "RE_headers = \"([a-zA-Z]+\\.[h])\""
   ]
  },
  {
   "cell_type": "code",
   "execution_count": 4,
   "id": "f60be664",
   "metadata": {},
   "outputs": [
    {
     "name": "stdout",
     "output_type": "stream",
     "text": [
      "arr --------->identifier\n",
      "=[ ------->operators\n",
      "1 -------->numerals\n",
      ", ------>special character\n",
      "2 -------->numerals\n",
      ", ------>special character\n",
      "3 -------->numerals\n",
      ", ------>special character\n",
      "4 -------->numerals\n",
      ", ------>special character\n",
      "5 -------->numerals\n",
      "] ------>special character\n",
      "for ----->Keywords\n",
      "i --------->identifier\n",
      "in --------->identifier\n",
      "range --------->identifier\n",
      "( ------>special character\n",
      "0 -------->numerals\n",
      ", ------>special character\n",
      "2 -------->numerals\n",
      "): ------>special character\n",
      "print ----->Keywords\n",
      "( ------>special character\n",
      "arr --------->identifier\n",
      "[ ------>special character\n",
      "i --------->identifier\n",
      "]) ------>special character\n"
     ]
    }
   ],
   "source": [
    "for token in program_tokenize:\n",
    "    if(re.findall(RE_keywords,token)):\n",
    "        print(token,\"----->Keywords\")\n",
    "    elif(re.findall(RE_operators,token)):\n",
    "        print(token,\"------->operators\")\n",
    "    elif(re.findall(RE_numerals,token)):\n",
    "        print(token,\"-------->numerals\")\n",
    "    elif(re.findall(RE_identifiers,token)):\n",
    "        print(token,\"--------->identifier\")\n",
    "    elif(re.findall(RE_headers,token)):\n",
    "        print(token,\"------>header\")\n",
    "    elif(re.findall(RE_specialchar,token)):\n",
    "        print(token,\"------>special character\")\n",
    "    else:\n",
    "        print(\"unknown Value\")\n",
    "        "
   ]
  }
 ],
 "metadata": {
  "kernelspec": {
   "display_name": "Python 3 (ipykernel)",
   "language": "python",
   "name": "python3"
  },
  "language_info": {
   "codemirror_mode": {
    "name": "ipython",
    "version": 3
   },
   "file_extension": ".py",
   "mimetype": "text/x-python",
   "name": "python",
   "nbconvert_exporter": "python",
   "pygments_lexer": "ipython3",
   "version": "3.8.8"
  }
 },
 "nbformat": 4,
 "nbformat_minor": 5
}
